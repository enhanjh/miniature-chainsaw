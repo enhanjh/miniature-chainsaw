{
  "nbformat": 4,
  "nbformat_minor": 0,
  "metadata": {
    "kernelspec": {
      "name": "python3",
      "display_name": "Python 3"
    },
    "colab": {
      "name": "baseline.ipynb",
      "provenance": [],
      "collapsed_sections": [],
      "toc_visible": true,
      "include_colab_link": true
    }
  },
  "cells": [
    {
      "cell_type": "markdown",
      "metadata": {
        "id": "view-in-github",
        "colab_type": "text"
      },
      "source": [
        "<a href=\"https://colab.research.google.com/github/enhanjh/miniature-chainsaw/blob/main/baseline.ipynb\" target=\"_parent\"><img src=\"https://colab.research.google.com/assets/colab-badge.svg\" alt=\"Open In Colab\"/></a>"
      ]
    },
    {
      "cell_type": "markdown",
      "metadata": {
        "id": "NGHEwc8Ipc8q"
      },
      "source": [
        "# baseline"
      ]
    },
    {
      "cell_type": "code",
      "metadata": {
        "colab": {
          "base_uri": "https://localhost:8080/"
        },
        "id": "x4DCCatIpfx5",
        "outputId": "c78a5e4b-3579-4c20-fca8-8666786536df"
      },
      "source": [
        "from google.colab import drive\n",
        "drive.mount('/content/drive')"
      ],
      "execution_count": 1,
      "outputs": [
        {
          "output_type": "stream",
          "text": [
            "Mounted at /content/drive\n"
          ],
          "name": "stdout"
        }
      ]
    },
    {
      "cell_type": "code",
      "metadata": {
        "colab": {
          "base_uri": "https://localhost:8080/"
        },
        "id": "z2fmFoSAr3Z4",
        "outputId": "44965165-df12-477e-b7dc-f63551e6f780"
      },
      "source": [
        "!pip install statsmodels==0.11.1\n",
        "!pip install fbprophet"
      ],
      "execution_count": 2,
      "outputs": [
        {
          "output_type": "stream",
          "text": [
            "Collecting statsmodels==0.11.1\n",
            "\u001b[?25l  Downloading https://files.pythonhosted.org/packages/7b/6a/0bf4184c3fb6f9f43df997b88de5784b4cb2f6bd19a5dc213463971076cf/statsmodels-0.11.1-cp37-cp37m-manylinux1_x86_64.whl (8.7MB)\n",
            "\u001b[K     |████████████████████████████████| 8.7MB 4.0MB/s \n",
            "\u001b[?25hRequirement already satisfied: patsy>=0.5 in /usr/local/lib/python3.7/dist-packages (from statsmodels==0.11.1) (0.5.1)\n",
            "Requirement already satisfied: numpy>=1.14 in /usr/local/lib/python3.7/dist-packages (from statsmodels==0.11.1) (1.19.5)\n",
            "Requirement already satisfied: scipy>=1.0 in /usr/local/lib/python3.7/dist-packages (from statsmodels==0.11.1) (1.4.1)\n",
            "Requirement already satisfied: pandas>=0.21 in /usr/local/lib/python3.7/dist-packages (from statsmodels==0.11.1) (1.1.5)\n",
            "Requirement already satisfied: six in /usr/local/lib/python3.7/dist-packages (from patsy>=0.5->statsmodels==0.11.1) (1.15.0)\n",
            "Requirement already satisfied: python-dateutil>=2.7.3 in /usr/local/lib/python3.7/dist-packages (from pandas>=0.21->statsmodels==0.11.1) (2.8.1)\n",
            "Requirement already satisfied: pytz>=2017.2 in /usr/local/lib/python3.7/dist-packages (from pandas>=0.21->statsmodels==0.11.1) (2018.9)\n",
            "Installing collected packages: statsmodels\n",
            "  Found existing installation: statsmodels 0.10.2\n",
            "    Uninstalling statsmodels-0.10.2:\n",
            "      Successfully uninstalled statsmodels-0.10.2\n",
            "Successfully installed statsmodels-0.11.1\n",
            "Requirement already satisfied: fbprophet in /usr/local/lib/python3.7/dist-packages (0.7.1)\n",
            "Requirement already satisfied: Cython>=0.22 in /usr/local/lib/python3.7/dist-packages (from fbprophet) (0.29.22)\n",
            "Requirement already satisfied: cmdstanpy==0.9.5 in /usr/local/lib/python3.7/dist-packages (from fbprophet) (0.9.5)\n",
            "Requirement already satisfied: pystan>=2.14 in /usr/local/lib/python3.7/dist-packages (from fbprophet) (2.19.1.1)\n",
            "Requirement already satisfied: numpy>=1.15.4 in /usr/local/lib/python3.7/dist-packages (from fbprophet) (1.19.5)\n",
            "Requirement already satisfied: pandas>=1.0.4 in /usr/local/lib/python3.7/dist-packages (from fbprophet) (1.1.5)\n",
            "Requirement already satisfied: matplotlib>=2.0.0 in /usr/local/lib/python3.7/dist-packages (from fbprophet) (3.2.2)\n",
            "Requirement already satisfied: LunarCalendar>=0.0.9 in /usr/local/lib/python3.7/dist-packages (from fbprophet) (0.0.9)\n",
            "Requirement already satisfied: convertdate>=2.1.2 in /usr/local/lib/python3.7/dist-packages (from fbprophet) (2.3.2)\n",
            "Requirement already satisfied: holidays>=0.10.2 in /usr/local/lib/python3.7/dist-packages (from fbprophet) (0.10.5.2)\n",
            "Requirement already satisfied: setuptools-git>=1.2 in /usr/local/lib/python3.7/dist-packages (from fbprophet) (1.2)\n",
            "Requirement already satisfied: python-dateutil>=2.8.0 in /usr/local/lib/python3.7/dist-packages (from fbprophet) (2.8.1)\n",
            "Requirement already satisfied: tqdm>=4.36.1 in /usr/local/lib/python3.7/dist-packages (from fbprophet) (4.41.1)\n",
            "Requirement already satisfied: pytz>=2017.2 in /usr/local/lib/python3.7/dist-packages (from pandas>=1.0.4->fbprophet) (2018.9)\n",
            "Requirement already satisfied: cycler>=0.10 in /usr/local/lib/python3.7/dist-packages (from matplotlib>=2.0.0->fbprophet) (0.10.0)\n",
            "Requirement already satisfied: kiwisolver>=1.0.1 in /usr/local/lib/python3.7/dist-packages (from matplotlib>=2.0.0->fbprophet) (1.3.1)\n",
            "Requirement already satisfied: pyparsing!=2.0.4,!=2.1.2,!=2.1.6,>=2.0.1 in /usr/local/lib/python3.7/dist-packages (from matplotlib>=2.0.0->fbprophet) (2.4.7)\n",
            "Requirement already satisfied: ephem>=3.7.5.3 in /usr/local/lib/python3.7/dist-packages (from LunarCalendar>=0.0.9->fbprophet) (3.7.7.1)\n",
            "Requirement already satisfied: pymeeus<=1,>=0.3.13 in /usr/local/lib/python3.7/dist-packages (from convertdate>=2.1.2->fbprophet) (0.5.11)\n",
            "Requirement already satisfied: korean-lunar-calendar in /usr/local/lib/python3.7/dist-packages (from holidays>=0.10.2->fbprophet) (0.2.1)\n",
            "Requirement already satisfied: hijri-converter in /usr/local/lib/python3.7/dist-packages (from holidays>=0.10.2->fbprophet) (2.1.1)\n",
            "Requirement already satisfied: six in /usr/local/lib/python3.7/dist-packages (from holidays>=0.10.2->fbprophet) (1.15.0)\n"
          ],
          "name": "stdout"
        }
      ]
    },
    {
      "cell_type": "markdown",
      "metadata": {
        "id": "DWFN7rLkpc8z"
      },
      "source": [
        "# 1. Library Import"
      ]
    },
    {
      "cell_type": "code",
      "metadata": {
        "id": "yyFoOWXPpc8z"
      },
      "source": [
        "import numpy as np\n",
        "import pandas as pd\n",
        "import gc\n",
        "import math\n",
        "import os.path\n",
        "import time\n",
        "import matplotlib.pyplot as plt\n",
        "from datetime import timedelta, datetime\n",
        "from dateutil import parser\n",
        "from tqdm import tqdm\n",
        "import copy\n",
        "from statsmodels.tsa.arima.model import ARIMA\n",
        "from statsmodels.graphics.tsaplots import plot_acf, plot_pacf\n",
        "from fbprophet import Prophet\n",
        "import warnings\n",
        "import datetime\n",
        "warnings.filterwarnings(\"ignore\")"
      ],
      "execution_count": 3,
      "outputs": []
    },
    {
      "cell_type": "markdown",
      "metadata": {
        "id": "DbSjRtv9pc80"
      },
      "source": [
        "# 2. 데이터 불러오기"
      ]
    },
    {
      "cell_type": "markdown",
      "metadata": {
        "id": "r1Gj0sBXpc81"
      },
      "source": [
        "## 1) read_csv"
      ]
    },
    {
      "cell_type": "code",
      "metadata": {
        "id": "zD66e_8opc81"
      },
      "source": [
        "data_path = '/content/drive/MyDrive/miniature-chainsaw/open'\n",
        "train_x_df = pd.read_csv(data_path  + \"/train_x_df.csv\")\n",
        "train_y_df = pd.read_csv(data_path  + \"/train_y_df.csv\")\n",
        "test_x_df = pd.read_csv(data_path  + \"/test_x_df.csv\")"
      ],
      "execution_count": 4,
      "outputs": []
    },
    {
      "cell_type": "markdown",
      "metadata": {
        "id": "G9AMliBFpc81"
      },
      "source": [
        "## 2) numpy arrary로 변환하기"
      ]
    },
    {
      "cell_type": "code",
      "metadata": {
        "id": "37kkNub5pc82"
      },
      "source": [
        "def df2d_to_array3d(df_2d):\n",
        "    # 입력 받은 2차원 데이터 프레임을 3차원 numpy array로 변경하는 함수\n",
        "    feature_size = df_2d.iloc[:,2:].shape[1]\n",
        "    time_size = len(df_2d.time.value_counts())\n",
        "    sample_size = len(df_2d.sample_id.value_counts())\n",
        "    sample_index = df_2d.sample_id.value_counts().index\n",
        "    array_3d = df_2d.iloc[:,2:].values.reshape([sample_size, time_size, feature_size])\n",
        "    return array_3d"
      ],
      "execution_count": 5,
      "outputs": []
    },
    {
      "cell_type": "code",
      "metadata": {
        "id": "yqy6-8Kbpc82"
      },
      "source": [
        "train_x_array = df2d_to_array3d(train_x_df)\n",
        "train_y_array = df2d_to_array3d(train_y_df)\n",
        "test_x_array = df2d_to_array3d(test_x_df)"
      ],
      "execution_count": 6,
      "outputs": []
    },
    {
      "cell_type": "code",
      "metadata": {
        "colab": {
          "base_uri": "https://localhost:8080/"
        },
        "id": "iQwrvA8rpc83",
        "outputId": "a0f64610-b35d-47d3-dcef-f209a984cf79"
      },
      "source": [
        "print(f'''\n",
        "train_x_array {train_x_array.shape}\n",
        "train_y_array {train_y_array.shape}\n",
        "test_x_array {test_x_array.shape}\n",
        "''')"
      ],
      "execution_count": 7,
      "outputs": [
        {
          "output_type": "stream",
          "text": [
            "\n",
            "train_x_array (7661, 1380, 10)\n",
            "train_y_array (7661, 120, 10)\n",
            "test_x_array (535, 1380, 10)\n",
            "\n"
          ],
          "name": "stdout"
        }
      ]
    },
    {
      "cell_type": "markdown",
      "metadata": {
        "id": "k5q2658lpc84"
      },
      "source": [
        "## 3) 샘플 확인하기"
      ]
    },
    {
      "cell_type": "code",
      "metadata": {
        "id": "8i3KkEeepc84"
      },
      "source": [
        "def plot_series(x_series, y_series):\n",
        "    #입력 series와 출력 series를 연속적으로 연결하여 시각적으로 보여주는 코드 입니다.\n",
        "    plt.plot(x_series, label = 'input_series')\n",
        "    plt.plot(np.arange(len(x_series), len(x_series)+len(y_series)),\n",
        "             y_series, label = 'output_series')\n",
        "    plt.axhline(1, c = 'red')\n",
        "    plt.legend()"
      ],
      "execution_count": 8,
      "outputs": []
    },
    {
      "cell_type": "code",
      "metadata": {
        "colab": {
          "base_uri": "https://localhost:8080/",
          "height": 265
        },
        "id": "PquVAYyppc85",
        "outputId": "e8def751-916a-4fb2-9f35-34271f6b24b2"
      },
      "source": [
        "# sample_id 1012에 해당하는 sample의 분단위 시가 변동 정보 시각화\n",
        "idx = 1012\n",
        "plot_series(train_x_array[idx,:,1], train_y_array[idx,:,1])\n",
        "plt.show()"
      ],
      "execution_count": 9,
      "outputs": [
        {
          "output_type": "display_data",
          "data": {
            "image/png": "[encoded data removed]",
            "text/plain": [
              "<Figure size 432x288 with 1 Axes>"
            ]
          },
          "metadata": {
            "tags": [],
            "needs_background": "light"
          }
        }
      ]
    },
    {
      "cell_type": "markdown",
      "metadata": {
        "id": "bFIBsI92pc85"
      },
      "source": [
        "# 3. 모델 훈련하기"
      ]
    },
    {
      "cell_type": "markdown",
      "metadata": {
        "id": "9o7iUwSSpc85"
      },
      "source": [
        "## 1) train 샘플 훈련하기"
      ]
    },
    {
      "cell_type": "code",
      "metadata": {
        "id": "1PCfRyT-O57L"
      },
      "source": [
        "start_time = '2021-01-31 00:00:00'\n",
        "start_dt = datetime.datetime.strptime(start_time, '%Y-%m-%d %H:%M:%S')"
      ],
      "execution_count": 10,
      "outputs": []
    },
    {
      "cell_type": "code",
      "metadata": {
        "id": "JHEvIk9KM1fO"
      },
      "source": [
        "idx = 1121\n",
        "# train data 중 sample_id 1121에 해당하는 x_series로 arima 모델을 학습한 후\n",
        "# y_series를 추론\n",
        "x_series = train_x_array[idx,:,1]\n",
        "y_series = train_y_array[idx,:,1]"
      ],
      "execution_count": 11,
      "outputs": []
    },
    {
      "cell_type": "code",
      "metadata": {
        "id": "_wkNvaRAM3zu"
      },
      "source": [
        "x_df = pd.DataFrame()\n",
        "x_df['ds'] = [start_dt + datetime.timedelta(minutes = time_min) for time_min in np.arange(1, x_series.shape[0]+1).tolist()]\n",
        "x_df['y'] = x_series.tolist()"
      ],
      "execution_count": 12,
      "outputs": []
    },
    {
      "cell_type": "code",
      "metadata": {
        "colab": {
          "base_uri": "https://localhost:8080/",
          "height": 204
        },
        "id": "cZOSbwIEN-8s",
        "outputId": "90f6ed48-4eac-426d-dbc9-a4670707f8ca"
      },
      "source": [
        "x_df.head()"
      ],
      "execution_count": 13,
      "outputs": [
        {
          "output_type": "execute_result",
          "data": {
            "text/html": [
              "<div>\n",
              "<style scoped>\n",
              "    .dataframe tbody tr th:only-of-type {\n",
              "        vertical-align: middle;\n",
              "    }\n",
              "\n",
              "    .dataframe tbody tr th {\n",
              "        vertical-align: top;\n",
              "    }\n",
              "\n",
              "    .dataframe thead th {\n",
              "        text-align: right;\n",
              "    }\n",
              "</style>\n",
              "<table border=\"1\" class=\"dataframe\">\n",
              "  <thead>\n",
              "    <tr style=\"text-align: right;\">\n",
              "      <th></th>\n",
              "      <th>ds</th>\n",
              "      <th>y</th>\n",
              "    </tr>\n",
              "  </thead>\n",
              "  <tbody>\n",
              "    <tr>\n",
              "      <th>0</th>\n",
              "      <td>2021-01-31 00:01:00</td>\n",
              "      <td>0.965430</td>\n",
              "    </tr>\n",
              "    <tr>\n",
              "      <th>1</th>\n",
              "      <td>2021-01-31 00:02:00</td>\n",
              "      <td>0.964615</td>\n",
              "    </tr>\n",
              "    <tr>\n",
              "      <th>2</th>\n",
              "      <td>2021-01-31 00:03:00</td>\n",
              "      <td>0.964525</td>\n",
              "    </tr>\n",
              "    <tr>\n",
              "      <th>3</th>\n",
              "      <td>2021-01-31 00:04:00</td>\n",
              "      <td>0.964434</td>\n",
              "    </tr>\n",
              "    <tr>\n",
              "      <th>4</th>\n",
              "      <td>2021-01-31 00:05:00</td>\n",
              "      <td>0.964163</td>\n",
              "    </tr>\n",
              "  </tbody>\n",
              "</table>\n",
              "</div>"
            ],
            "text/plain": [
              "                   ds         y\n",
              "0 2021-01-31 00:01:00  0.965430\n",
              "1 2021-01-31 00:02:00  0.964615\n",
              "2 2021-01-31 00:03:00  0.964525\n",
              "3 2021-01-31 00:04:00  0.964434\n",
              "4 2021-01-31 00:05:00  0.964163"
            ]
          },
          "metadata": {
            "tags": []
          },
          "execution_count": 13
        }
      ]
    },
    {
      "cell_type": "code",
      "metadata": {
        "colab": {
          "base_uri": "https://localhost:8080/"
        },
        "id": "tTWbr3B6OHKd",
        "outputId": "0dffdc92-1211-4230-a4b5-91ab7755d673"
      },
      "source": [
        "prophet = Prophet(seasonality_mode='multiplicative', \n",
        "                  yearly_seasonality=False,\n",
        "                  weekly_seasonality=False, daily_seasonality=False)\n",
        "prophet.fit(x_df)"
      ],
      "execution_count": 14,
      "outputs": [
        {
          "output_type": "stream",
          "text": [
            "INFO:numexpr.utils:NumExpr defaulting to 2 threads.\n"
          ],
          "name": "stderr"
        },
        {
          "output_type": "execute_result",
          "data": {
            "text/plain": [
              "<fbprophet.forecaster.Prophet at 0x7f38e7576950>"
            ]
          },
          "metadata": {
            "tags": []
          },
          "execution_count": 14
        }
      ]
    },
    {
      "cell_type": "code",
      "metadata": {
        "colab": {
          "base_uri": "https://localhost:8080/",
          "height": 204
        },
        "id": "6ntZW1-mQAa4",
        "outputId": "4837347b-da70-4c0b-fb71-f1a57008a002"
      },
      "source": [
        "# 120분 테스트 데이터를 예측합니다.\n",
        "future_data = prophet.make_future_dataframe(periods=120, freq='min')\n",
        "forecast_data = prophet.predict(future_data)\n",
        "forecast_data[['ds', 'yhat', 'yhat_lower', 'yhat_upper']].tail(5)"
      ],
      "execution_count": 15,
      "outputs": [
        {
          "output_type": "execute_result",
          "data": {
            "text/html": [
              "<div>\n",
              "<style scoped>\n",
              "    .dataframe tbody tr th:only-of-type {\n",
              "        vertical-align: middle;\n",
              "    }\n",
              "\n",
              "    .dataframe tbody tr th {\n",
              "        vertical-align: top;\n",
              "    }\n",
              "\n",
              "    .dataframe thead th {\n",
              "        text-align: right;\n",
              "    }\n",
              "</style>\n",
              "<table border=\"1\" class=\"dataframe\">\n",
              "  <thead>\n",
              "    <tr style=\"text-align: right;\">\n",
              "      <th></th>\n",
              "      <th>ds</th>\n",
              "      <th>yhat</th>\n",
              "      <th>yhat_lower</th>\n",
              "      <th>yhat_upper</th>\n",
              "    </tr>\n",
              "  </thead>\n",
              "  <tbody>\n",
              "    <tr>\n",
              "      <th>1495</th>\n",
              "      <td>2021-02-01 00:56:00</td>\n",
              "      <td>1.002141</td>\n",
              "      <td>0.992084</td>\n",
              "      <td>1.012409</td>\n",
              "    </tr>\n",
              "    <tr>\n",
              "      <th>1496</th>\n",
              "      <td>2021-02-01 00:57:00</td>\n",
              "      <td>1.002199</td>\n",
              "      <td>0.992845</td>\n",
              "      <td>1.012882</td>\n",
              "    </tr>\n",
              "    <tr>\n",
              "      <th>1497</th>\n",
              "      <td>2021-02-01 00:58:00</td>\n",
              "      <td>1.002257</td>\n",
              "      <td>0.992482</td>\n",
              "      <td>1.012710</td>\n",
              "    </tr>\n",
              "    <tr>\n",
              "      <th>1498</th>\n",
              "      <td>2021-02-01 00:59:00</td>\n",
              "      <td>1.002315</td>\n",
              "      <td>0.991735</td>\n",
              "      <td>1.013296</td>\n",
              "    </tr>\n",
              "    <tr>\n",
              "      <th>1499</th>\n",
              "      <td>2021-02-01 01:00:00</td>\n",
              "      <td>1.002373</td>\n",
              "      <td>0.992113</td>\n",
              "      <td>1.013597</td>\n",
              "    </tr>\n",
              "  </tbody>\n",
              "</table>\n",
              "</div>"
            ],
            "text/plain": [
              "                      ds      yhat  yhat_lower  yhat_upper\n",
              "1495 2021-02-01 00:56:00  1.002141    0.992084    1.012409\n",
              "1496 2021-02-01 00:57:00  1.002199    0.992845    1.012882\n",
              "1497 2021-02-01 00:58:00  1.002257    0.992482    1.012710\n",
              "1498 2021-02-01 00:59:00  1.002315    0.991735    1.013296\n",
              "1499 2021-02-01 01:00:00  1.002373    0.992113    1.013597"
            ]
          },
          "metadata": {
            "tags": []
          },
          "execution_count": 15
        }
      ]
    },
    {
      "cell_type": "code",
      "metadata": {
        "colab": {
          "base_uri": "https://localhost:8080/",
          "height": 441
        },
        "id": "sD_coq5wQoTp",
        "outputId": "09a69fc1-2920-4e46-ddf1-49722cf5afaa"
      },
      "source": [
        "# 만들어진 데이터를 확인합니다.\n",
        "fig1 = prophet.plot(forecast_data)"
      ],
      "execution_count": 16,
      "outputs": [
        {
          "output_type": "display_data",
          "data": {
            "image/png": "[encoded data removed]",
            "text/plain": [
              "<Figure size 720x432 with 1 Axes>"
            ]
          },
          "metadata": {
            "tags": []
          }
        }
      ]
    },
    {
      "cell_type": "code",
      "metadata": {
        "colab": {
          "base_uri": "https://localhost:8080/",
          "height": 225
        },
        "id": "W801QKVoRIZZ",
        "outputId": "7c3ce9fc-dc57-4da2-ce10-4753dd91f9f2"
      },
      "source": [
        "# 데이터의 추세를 확인합니다.\n",
        "fig2 = prophet.plot_components(forecast_data)"
      ],
      "execution_count": 17,
      "outputs": [
        {
          "output_type": "display_data",
          "data": {
            "image/png": "[encoded data removed]",
            "text/plain": [
              "<Figure size 648x216 with 1 Axes>"
            ]
          },
          "metadata": {
            "tags": []
          }
        }
      ]
    },
    {
      "cell_type": "code",
      "metadata": {
        "colab": {
          "base_uri": "https://localhost:8080/",
          "height": 265
        },
        "id": "6bh85RPjRicv",
        "outputId": "adc51003-7a5b-4604-e859-31d6a8da302f"
      },
      "source": [
        "pred_y = forecast_data.yhat.values[-120:]\n",
        "pred_y_lower = forecast_data.yhat_lower.values[-120:]\n",
        "pred_y_upper = forecast_data.yhat_upper.values[-120:]\n",
        "\n",
        "plot_series(x_series, y_series)\n",
        "plt.plot(np.arange(1380, 1380+120), pred_y, label = 'prediction')\n",
        "plt.plot(np.arange(1380, 1380+120), pred_y_lower, label = 'prediction_lower')\n",
        "plt.plot(np.arange(1380, 1380+120), pred_y_upper, label = 'prediction_upper')\n",
        "plt.legend()\n",
        "plt.show()"
      ],
      "execution_count": 18,
      "outputs": [
        {
          "output_type": "display_data",
          "data": {
            "image/png": "[encoded data removed]",
            "text/plain": [
              "<Figure size 432x288 with 1 Axes>"
            ]
          },
          "metadata": {
            "tags": [],
            "needs_background": "light"
          }
        }
      ]
    },
    {
      "cell_type": "markdown",
      "metadata": {
        "id": "YtuukNJWpc86"
      },
      "source": [
        "## 2) validation set 훈련하기"
      ]
    },
    {
      "cell_type": "markdown",
      "metadata": {
        "id": "F2BdgnN6pc86"
      },
      "source": [
        "### <1> validation 데이터 생성하기"
      ]
    },
    {
      "cell_type": "code",
      "metadata": {
        "id": "ZCiQicATpc87"
      },
      "source": [
        "# train 데이터 상단의 300개 샘플로 validation set를 구성하여 학습 및 추론\n",
        "valid_x_df = train_x_df[train_x_df.sample_id < 300]\n",
        "valid_y_df = train_y_df[train_y_df.sample_id < 300]\n",
        "\n",
        "valid_x_array = df2d_to_array3d(valid_x_df)\n",
        "valid_y_array = df2d_to_array3d(valid_y_df)\n",
        "valid_pred_array = np.zeros([300, 120])"
      ],
      "execution_count": 19,
      "outputs": []
    },
    {
      "cell_type": "markdown",
      "metadata": {
        "id": "qSa6gsKvpc87"
      },
      "source": [
        "### <2> 학습 및 추론하기"
      ]
    },
    {
      "cell_type": "code",
      "metadata": {
        "colab": {
          "base_uri": "https://localhost:8080/"
        },
        "id": "fPBiAu0_pc87",
        "outputId": "7d007efb-8576-4dfe-eac3-62611c6c359a"
      },
      "source": [
        "\n",
        "for idx in tqdm(range(valid_x_array.shape[0])):\n",
        "    try:\n",
        "        x_series = valid_x_array[idx,:,1]\n",
        "\n",
        "        x_df = pd.DataFrame()\n",
        "        x_df['ds'] = [start_dt + datetime.timedelta(minutes = time_min) for time_min in np.arange(1, x_series.shape[0]+1).tolist()]\n",
        "        x_df['y'] = x_series.tolist()\n",
        "\n",
        "        prophet = Prophet(seasonality_mode='multiplicative', \n",
        "                  yearly_seasonality=False,\n",
        "                  weekly_seasonality=False, daily_seasonality=False)\n",
        "        prophet.fit(x_df)\n",
        "\n",
        "        # 120분 테스트 데이터를 예측합니다.\n",
        "        future_data = prophet.make_future_dataframe(periods=120, freq='min')\n",
        "        forecast_data = prophet.predict(future_data)\n",
        "\n",
        "        pred_y = forecast_data.yhat.values[-120:]\n",
        "        pred_y_lower = forecast_data.yhat_lower.values[-120:]\n",
        "        pred_y_upper = forecast_data.yhat_upper.values[-120:]\n",
        "\n",
        "        valid_pred_array[idx,:] = pred_y\n",
        "    except:\n",
        "        print(idx, \" 샘플은 수렴하지 않습니다.\")\n",
        "        pass"
      ],
      "execution_count": 20,
      "outputs": [
        {
          "output_type": "stream",
          "text": [
            "100%|██████████| 300/300 [20:01<00:00,  4.01s/it]\n"
          ],
          "name": "stderr"
        }
      ]
    },
    {
      "cell_type": "markdown",
      "metadata": {
        "id": "4JG8kRkOpc88"
      },
      "source": [
        "### <3> valid_pred_array 로부터 buy_quantity, sell_time 구하기"
      ]
    },
    {
      "cell_type": "code",
      "metadata": {
        "id": "j6KqLIzKpc88"
      },
      "source": [
        "def array_to_submission(x_array, pred_array):\n",
        "    # 입력 x_arrry와 출력 pred_array를 통해서 \n",
        "    # buy_quantitiy와 sell_time을 결정\n",
        "    submission = pd.DataFrame(np.zeros([pred_array.shape[0],2], np.int64),\n",
        "                columns = ['buy_quantity', 'sell_time'])\n",
        "    submission = submission.reset_index()\n",
        "    submission.loc[:, 'buy_quantity'] = 0.1\n",
        "    \n",
        "    buy_price = []\n",
        "    for idx, sell_time in enumerate(np.argmax(pred_array, axis = 1)):\n",
        "        buy_price.append(pred_array[idx, sell_time])\n",
        "    buy_price = np.array(buy_price)\n",
        "    # 115% 이상 상승한하고 예측한 sample에 대해서만 100% 매수\n",
        "    submission.loc[:, 'buy_quantity'] = (buy_price > 1.15) * 1\n",
        "    # 모델이 예측값 중 최대 값에 해당하는 시간에 매도\n",
        "    submission['sell_time'] = np.argmax(pred_array, axis = 1)\n",
        "    submission.columns = ['sample_id','buy_quantity', 'sell_time']\n",
        "    return submission"
      ],
      "execution_count": 21,
      "outputs": []
    },
    {
      "cell_type": "code",
      "metadata": {
        "id": "eglMXdGzpc88"
      },
      "source": [
        "valid_submission = array_to_submission(valid_x_array, valid_pred_array)"
      ],
      "execution_count": 22,
      "outputs": []
    },
    {
      "cell_type": "code",
      "metadata": {
        "id": "gkAoT7N-pc89",
        "colab": {
          "base_uri": "https://localhost:8080/",
          "height": 419
        },
        "outputId": "9467c986-d7d6-413a-d0e2-104b93b32d12"
      },
      "source": [
        "valid_submission"
      ],
      "execution_count": 23,
      "outputs": [
        {
          "output_type": "execute_result",
          "data": {
            "text/html": [
              "<div>\n",
              "<style scoped>\n",
              "    .dataframe tbody tr th:only-of-type {\n",
              "        vertical-align: middle;\n",
              "    }\n",
              "\n",
              "    .dataframe tbody tr th {\n",
              "        vertical-align: top;\n",
              "    }\n",
              "\n",
              "    .dataframe thead th {\n",
              "        text-align: right;\n",
              "    }\n",
              "</style>\n",
              "<table border=\"1\" class=\"dataframe\">\n",
              "  <thead>\n",
              "    <tr style=\"text-align: right;\">\n",
              "      <th></th>\n",
              "      <th>sample_id</th>\n",
              "      <th>buy_quantity</th>\n",
              "      <th>sell_time</th>\n",
              "    </tr>\n",
              "  </thead>\n",
              "  <tbody>\n",
              "    <tr>\n",
              "      <th>0</th>\n",
              "      <td>0</td>\n",
              "      <td>0</td>\n",
              "      <td>0</td>\n",
              "    </tr>\n",
              "    <tr>\n",
              "      <th>1</th>\n",
              "      <td>1</td>\n",
              "      <td>0</td>\n",
              "      <td>119</td>\n",
              "    </tr>\n",
              "    <tr>\n",
              "      <th>2</th>\n",
              "      <td>2</td>\n",
              "      <td>0</td>\n",
              "      <td>0</td>\n",
              "    </tr>\n",
              "    <tr>\n",
              "      <th>3</th>\n",
              "      <td>3</td>\n",
              "      <td>0</td>\n",
              "      <td>0</td>\n",
              "    </tr>\n",
              "    <tr>\n",
              "      <th>4</th>\n",
              "      <td>4</td>\n",
              "      <td>0</td>\n",
              "      <td>119</td>\n",
              "    </tr>\n",
              "    <tr>\n",
              "      <th>...</th>\n",
              "      <td>...</td>\n",
              "      <td>...</td>\n",
              "      <td>...</td>\n",
              "    </tr>\n",
              "    <tr>\n",
              "      <th>295</th>\n",
              "      <td>295</td>\n",
              "      <td>0</td>\n",
              "      <td>119</td>\n",
              "    </tr>\n",
              "    <tr>\n",
              "      <th>296</th>\n",
              "      <td>296</td>\n",
              "      <td>0</td>\n",
              "      <td>0</td>\n",
              "    </tr>\n",
              "    <tr>\n",
              "      <th>297</th>\n",
              "      <td>297</td>\n",
              "      <td>0</td>\n",
              "      <td>0</td>\n",
              "    </tr>\n",
              "    <tr>\n",
              "      <th>298</th>\n",
              "      <td>298</td>\n",
              "      <td>0</td>\n",
              "      <td>0</td>\n",
              "    </tr>\n",
              "    <tr>\n",
              "      <th>299</th>\n",
              "      <td>299</td>\n",
              "      <td>0</td>\n",
              "      <td>0</td>\n",
              "    </tr>\n",
              "  </tbody>\n",
              "</table>\n",
              "<p>300 rows × 3 columns</p>\n",
              "</div>"
            ],
            "text/plain": [
              "     sample_id  buy_quantity  sell_time\n",
              "0            0             0          0\n",
              "1            1             0        119\n",
              "2            2             0          0\n",
              "3            3             0          0\n",
              "4            4             0        119\n",
              "..         ...           ...        ...\n",
              "295        295             0        119\n",
              "296        296             0          0\n",
              "297        297             0          0\n",
              "298        298             0          0\n",
              "299        299             0          0\n",
              "\n",
              "[300 rows x 3 columns]"
            ]
          },
          "metadata": {
            "tags": []
          },
          "execution_count": 23
        }
      ]
    },
    {
      "cell_type": "code",
      "metadata": {
        "colab": {
          "base_uri": "https://localhost:8080/"
        },
        "id": "LhFcUSVapc89",
        "outputId": "1da2740a-d0be-4dc9-cf00-4f6a64ba4558"
      },
      "source": [
        "# 전체 300가지 sample에 대해\n",
        "# 5가지 case에서 115% 이상 상승한다고 추론함.\n",
        "valid_submission.buy_quantity.value_counts()"
      ],
      "execution_count": 24,
      "outputs": [
        {
          "output_type": "execute_result",
          "data": {
            "text/plain": [
              "0    300\n",
              "Name: buy_quantity, dtype: int64"
            ]
          },
          "metadata": {
            "tags": []
          },
          "execution_count": 24
        }
      ]
    },
    {
      "cell_type": "markdown",
      "metadata": {
        "id": "SgR-gqhmpc89"
      },
      "source": [
        "### <4> 투자 후 금액 계산하기"
      ]
    },
    {
      "cell_type": "code",
      "metadata": {
        "id": "Z7033aeGpc8-"
      },
      "source": [
        "def df2d_to_answer(df_2d):\n",
        "    # valid_y_df로부터\n",
        "    # open 가격 정보가 포함된\n",
        "    # [샘플 수, 120분] 크기의 \n",
        "    # 2차원 array를 반환하는 함수\n",
        "    feature_size = df_2d.iloc[:,2:].shape[1]\n",
        "    time_size = len(df_2d.time.value_counts())\n",
        "    sample_size = len(df_2d.sample_id.value_counts())\n",
        "    sample_index = df_2d.sample_id.value_counts().index\n",
        "    array_2d = df_2d.open.values.reshape([sample_size, time_size])\n",
        "    sample_index = list(sample_index)\n",
        "    return array_2d, sample_index\n",
        "\n",
        "\n",
        "def COIN(y_df, submission, df2d_to_answer = df2d_to_answer):\n",
        "    # 2차원 데이터프레임에서 open 시점 데이터만 추출하여 array로 복원\n",
        "    # sample_id정보를 index에 저장\n",
        "    y_array, index = df2d_to_answer(y_df)\n",
        "    \n",
        "    # index 기준으로 submission을 다시 선택\n",
        "    submission = submission.set_index(submission.columns[0])\n",
        "    submission = submission.iloc[index, :]    \n",
        "    \n",
        "    # 초기 투자 비용은 10000 달러\n",
        "    total_momey      = 10000 # dolors\n",
        "    total_momey_list = []\n",
        "    \n",
        "    # 가장 처음 sample_id값\n",
        "    start_index = submission.index[0]\n",
        "    for row_idx in submission.index:\n",
        "        sell_time  = submission.loc[row_idx, 'sell_time']\n",
        "        buy_price  = y_array[row_idx - start_index, 0]\n",
        "        sell_price = y_array[row_idx - start_index, sell_time]\n",
        "        buy_quantity = submission.loc[row_idx, 'buy_quantity'] * total_momey\n",
        "        residual = total_momey - buy_quantity\n",
        "        ratio = sell_price / buy_price\n",
        "        total_momey = buy_quantity * ratio * 0.9995 * 0.9995 + residual        \n",
        "        total_momey_list.append(total_momey)\n",
        "        \n",
        "    return total_momey, total_momey_list"
      ],
      "execution_count": 25,
      "outputs": []
    },
    {
      "cell_type": "code",
      "metadata": {
        "id": "aRmXcrh5pc8-"
      },
      "source": [
        "total_momey, total_momey_list = COIN(valid_y_df,\n",
        "                                     valid_submission)"
      ],
      "execution_count": 26,
      "outputs": []
    },
    {
      "cell_type": "code",
      "metadata": {
        "colab": {
          "base_uri": "https://localhost:8080/"
        },
        "id": "0afyWYRWpc8-",
        "outputId": "6d497690-a239-4dbf-b231-6fdbbdc57828"
      },
      "source": [
        "# 투자 후 금액\n",
        "print(total_momey)"
      ],
      "execution_count": 27,
      "outputs": [
        {
          "output_type": "stream",
          "text": [
            "10000.0\n"
          ],
          "name": "stdout"
        }
      ]
    },
    {
      "cell_type": "code",
      "metadata": {
        "id": "AMov4MX3pc8_",
        "colab": {
          "base_uri": "https://localhost:8080/",
          "height": 281
        },
        "outputId": "58523350-7976-4cf3-ecee-deb25e4e69a5"
      },
      "source": [
        "# 투자 히스토리\n",
        "plt.plot(total_momey_list)\n",
        "plt.title(\"history\")\n",
        "plt.show()"
      ],
      "execution_count": 28,
      "outputs": [
        {
          "output_type": "display_data",
          "data": {
            "image/png": "[encoded data removed]",
            "text/plain": [
              "<Figure size 432x288 with 1 Axes>"
            ]
          },
          "metadata": {
            "tags": [],
            "needs_background": "light"
          }
        }
      ]
    },
    {
      "cell_type": "markdown",
      "metadata": {
        "id": "dmeXYUE1pc8_"
      },
      "source": [
        "# 4. test 데이터 학습하고 추론하기"
      ]
    },
    {
      "cell_type": "code",
      "metadata": {
        "colab": {
          "base_uri": "https://localhost:8080/"
        },
        "id": "4QVrQn_opc8_",
        "outputId": "b0b80dad-e516-43d9-d2ab-4f5de2320604"
      },
      "source": [
        "test_pred_array = np.zeros([test_x_array.shape[0],\n",
        "                           120])\n",
        "for idx in tqdm(range(test_x_array.shape[0])):\n",
        "    try:\n",
        "        x_series = test_x_array[idx,:,1]\n",
        "\n",
        "        x_df = pd.DataFrame()\n",
        "        x_df['ds'] = [start_dt + datetime.timedelta(minutes = time_min) for time_min in np.arange(1, x_series.shape[0]+1).tolist()]\n",
        "        x_df['y'] = x_series.tolist()\n",
        "\n",
        "        prophet = Prophet(seasonality_mode='multiplicative', \n",
        "                  yearly_seasonality=False,\n",
        "                  weekly_seasonality=False, daily_seasonality=False)\n",
        "        prophet.fit(x_df)\n",
        "\n",
        "        # 120분 테스트 데이터를 예측합니다.\n",
        "        future_data = prophet.make_future_dataframe(periods=120, freq='min')\n",
        "        forecast_data = prophet.predict(future_data)\n",
        "\n",
        "        pred_y = forecast_data.yhat.values[-120:]\n",
        "        pred_y_lower = forecast_data.yhat_lower.values[-120:]\n",
        "        pred_y_upper = forecast_data.yhat_upper.values[-120:]\n",
        "\n",
        "        test_pred_array[idx,:] = pred_y\n",
        "    except:\n",
        "        print(idx, \" 샘플은 수렴하지 않습니다.\")\n",
        "        pass"
      ],
      "execution_count": null,
      "outputs": [
        {
          "output_type": "stream",
          "text": [
            "100%|██████████| 529/529 [44:54<00:00,  5.09s/it]\n"
          ],
          "name": "stderr"
        }
      ]
    },
    {
      "cell_type": "markdown",
      "metadata": {
        "id": "p14PbsG2pc9A"
      },
      "source": [
        "## 추론한 test_pred_array를 바탕으로 submission df 생성하기"
      ]
    },
    {
      "cell_type": "code",
      "metadata": {
        "id": "Xq8zvVmRpc9B"
      },
      "source": [
        "submission = array_to_submission(test_x_array, test_pred_array)"
      ],
      "execution_count": null,
      "outputs": []
    },
    {
      "cell_type": "code",
      "metadata": {
        "id": "iIVecsHSpc9B"
      },
      "source": [
        "submission.to_csv(data_path+\"/baseline_submission_proh.csv\", index = False)"
      ],
      "execution_count": null,
      "outputs": []
    },
    {
      "cell_type": "code",
      "metadata": {
        "id": "x-VHVwrkv68C"
      },
      "source": [
        ""
      ],
      "execution_count": null,
      "outputs": []
    }
  ]
}